{
 "cells": [
  {
   "cell_type": "markdown",
   "metadata": {},
   "source": [
    "- Module 4 Project\n",
    "- Eric Sundstrom\n",
    "- Instructor: Victor Geislinger"
   ]
  },
  {
   "cell_type": "markdown",
   "metadata": {},
   "source": [
    "# Importing"
   ]
  },
  {
   "cell_type": "code",
   "execution_count": 1,
   "metadata": {},
   "outputs": [],
   "source": [
    "import pandas as pd\n",
    "import numpy as np\n",
    "import matplotlib.pyplot as plt\n",
    "import itertools\n",
    "import statsmodels.api as sm\n",
    "import warnings\n",
    "warnings.filterwarnings('ignore')\n",
    "from matplotlib.pylab import rcParams\n",
    "plt.style.use('ggplot')"
   ]
  },
  {
   "cell_type": "markdown",
   "metadata": {},
   "source": [
    "- read in data from csv file\n",
    "- check to make sure things look correct"
   ]
  },
  {
   "cell_type": "code",
   "execution_count": 2,
   "metadata": {},
   "outputs": [
    {
     "data": {
      "text/html": [
       "<div>\n",
       "<style scoped>\n",
       "    .dataframe tbody tr th:only-of-type {\n",
       "        vertical-align: middle;\n",
       "    }\n",
       "\n",
       "    .dataframe tbody tr th {\n",
       "        vertical-align: top;\n",
       "    }\n",
       "\n",
       "    .dataframe thead th {\n",
       "        text-align: right;\n",
       "    }\n",
       "</style>\n",
       "<table border=\"1\" class=\"dataframe\">\n",
       "  <thead>\n",
       "    <tr style=\"text-align: right;\">\n",
       "      <th></th>\n",
       "      <th>RegionID</th>\n",
       "      <th>RegionName</th>\n",
       "      <th>City</th>\n",
       "      <th>State</th>\n",
       "      <th>Metro</th>\n",
       "      <th>CountyName</th>\n",
       "      <th>SizeRank</th>\n",
       "      <th>1996-04</th>\n",
       "      <th>1996-05</th>\n",
       "      <th>1996-06</th>\n",
       "      <th>...</th>\n",
       "      <th>2017-07</th>\n",
       "      <th>2017-08</th>\n",
       "      <th>2017-09</th>\n",
       "      <th>2017-10</th>\n",
       "      <th>2017-11</th>\n",
       "      <th>2017-12</th>\n",
       "      <th>2018-01</th>\n",
       "      <th>2018-02</th>\n",
       "      <th>2018-03</th>\n",
       "      <th>2018-04</th>\n",
       "    </tr>\n",
       "  </thead>\n",
       "  <tbody>\n",
       "    <tr>\n",
       "      <th>0</th>\n",
       "      <td>84654</td>\n",
       "      <td>60657</td>\n",
       "      <td>Chicago</td>\n",
       "      <td>IL</td>\n",
       "      <td>Chicago</td>\n",
       "      <td>Cook</td>\n",
       "      <td>1</td>\n",
       "      <td>334200.0</td>\n",
       "      <td>335400.0</td>\n",
       "      <td>336500.0</td>\n",
       "      <td>...</td>\n",
       "      <td>1005500</td>\n",
       "      <td>1007500</td>\n",
       "      <td>1007800</td>\n",
       "      <td>1009600</td>\n",
       "      <td>1013300</td>\n",
       "      <td>1018700</td>\n",
       "      <td>1024400</td>\n",
       "      <td>1030700</td>\n",
       "      <td>1033800</td>\n",
       "      <td>1030600</td>\n",
       "    </tr>\n",
       "    <tr>\n",
       "      <th>1</th>\n",
       "      <td>90668</td>\n",
       "      <td>75070</td>\n",
       "      <td>McKinney</td>\n",
       "      <td>TX</td>\n",
       "      <td>Dallas-Fort Worth</td>\n",
       "      <td>Collin</td>\n",
       "      <td>2</td>\n",
       "      <td>235700.0</td>\n",
       "      <td>236900.0</td>\n",
       "      <td>236700.0</td>\n",
       "      <td>...</td>\n",
       "      <td>308000</td>\n",
       "      <td>310000</td>\n",
       "      <td>312500</td>\n",
       "      <td>314100</td>\n",
       "      <td>315000</td>\n",
       "      <td>316600</td>\n",
       "      <td>318100</td>\n",
       "      <td>319600</td>\n",
       "      <td>321100</td>\n",
       "      <td>321800</td>\n",
       "    </tr>\n",
       "    <tr>\n",
       "      <th>2</th>\n",
       "      <td>91982</td>\n",
       "      <td>77494</td>\n",
       "      <td>Katy</td>\n",
       "      <td>TX</td>\n",
       "      <td>Houston</td>\n",
       "      <td>Harris</td>\n",
       "      <td>3</td>\n",
       "      <td>210400.0</td>\n",
       "      <td>212200.0</td>\n",
       "      <td>212200.0</td>\n",
       "      <td>...</td>\n",
       "      <td>321000</td>\n",
       "      <td>320600</td>\n",
       "      <td>320200</td>\n",
       "      <td>320400</td>\n",
       "      <td>320800</td>\n",
       "      <td>321200</td>\n",
       "      <td>321200</td>\n",
       "      <td>323000</td>\n",
       "      <td>326900</td>\n",
       "      <td>329900</td>\n",
       "    </tr>\n",
       "    <tr>\n",
       "      <th>3</th>\n",
       "      <td>84616</td>\n",
       "      <td>60614</td>\n",
       "      <td>Chicago</td>\n",
       "      <td>IL</td>\n",
       "      <td>Chicago</td>\n",
       "      <td>Cook</td>\n",
       "      <td>4</td>\n",
       "      <td>498100.0</td>\n",
       "      <td>500900.0</td>\n",
       "      <td>503100.0</td>\n",
       "      <td>...</td>\n",
       "      <td>1289800</td>\n",
       "      <td>1287700</td>\n",
       "      <td>1287400</td>\n",
       "      <td>1291500</td>\n",
       "      <td>1296600</td>\n",
       "      <td>1299000</td>\n",
       "      <td>1302700</td>\n",
       "      <td>1306400</td>\n",
       "      <td>1308500</td>\n",
       "      <td>1307000</td>\n",
       "    </tr>\n",
       "    <tr>\n",
       "      <th>4</th>\n",
       "      <td>93144</td>\n",
       "      <td>79936</td>\n",
       "      <td>El Paso</td>\n",
       "      <td>TX</td>\n",
       "      <td>El Paso</td>\n",
       "      <td>El Paso</td>\n",
       "      <td>5</td>\n",
       "      <td>77300.0</td>\n",
       "      <td>77300.0</td>\n",
       "      <td>77300.0</td>\n",
       "      <td>...</td>\n",
       "      <td>119100</td>\n",
       "      <td>119400</td>\n",
       "      <td>120000</td>\n",
       "      <td>120300</td>\n",
       "      <td>120300</td>\n",
       "      <td>120300</td>\n",
       "      <td>120300</td>\n",
       "      <td>120500</td>\n",
       "      <td>121000</td>\n",
       "      <td>121500</td>\n",
       "    </tr>\n",
       "  </tbody>\n",
       "</table>\n",
       "<p>5 rows × 272 columns</p>\n",
       "</div>"
      ],
      "text/plain": [
       "   RegionID  RegionName      City State              Metro CountyName  \\\n",
       "0     84654       60657   Chicago    IL            Chicago       Cook   \n",
       "1     90668       75070  McKinney    TX  Dallas-Fort Worth     Collin   \n",
       "2     91982       77494      Katy    TX            Houston     Harris   \n",
       "3     84616       60614   Chicago    IL            Chicago       Cook   \n",
       "4     93144       79936   El Paso    TX            El Paso    El Paso   \n",
       "\n",
       "   SizeRank   1996-04   1996-05   1996-06  ...  2017-07  2017-08  2017-09  \\\n",
       "0         1  334200.0  335400.0  336500.0  ...  1005500  1007500  1007800   \n",
       "1         2  235700.0  236900.0  236700.0  ...   308000   310000   312500   \n",
       "2         3  210400.0  212200.0  212200.0  ...   321000   320600   320200   \n",
       "3         4  498100.0  500900.0  503100.0  ...  1289800  1287700  1287400   \n",
       "4         5   77300.0   77300.0   77300.0  ...   119100   119400   120000   \n",
       "\n",
       "   2017-10  2017-11  2017-12  2018-01  2018-02  2018-03  2018-04  \n",
       "0  1009600  1013300  1018700  1024400  1030700  1033800  1030600  \n",
       "1   314100   315000   316600   318100   319600   321100   321800  \n",
       "2   320400   320800   321200   321200   323000   326900   329900  \n",
       "3  1291500  1296600  1299000  1302700  1306400  1308500  1307000  \n",
       "4   120300   120300   120300   120300   120500   121000   121500  \n",
       "\n",
       "[5 rows x 272 columns]"
      ]
     },
     "execution_count": 2,
     "metadata": {},
     "output_type": "execute_result"
    }
   ],
   "source": [
    "df = pd.read_csv('zillow_data.csv')\n",
    "df.head()"
   ]
  },
  {
   "cell_type": "markdown",
   "metadata": {},
   "source": [
    "# Data Pre-Processing"
   ]
  },
  {
   "cell_type": "markdown",
   "metadata": {},
   "source": [
    "- rename RegionName to ZipCode because that is what the data really is\n",
    "- drop the RegionID columns as it is confusing to what it represents"
   ]
  },
  {
   "cell_type": "code",
   "execution_count": 3,
   "metadata": {},
   "outputs": [],
   "source": [
    "df.rename(columns={'RegionName':'ZipCode'}, inplace=True)\n",
    "df.drop('RegionID', axis=1, inplace=True)"
   ]
  },
  {
   "cell_type": "markdown",
   "metadata": {},
   "source": [
    "- helper function to transform the given column strings to datetime format\n",
    "- use the helper function"
   ]
  },
  {
   "cell_type": "code",
   "execution_count": 4,
   "metadata": {},
   "outputs": [],
   "source": [
    "def get_datetimes(df):\n",
    "    return pd.to_datetime(df.columns.values[6:], format='%Y-%m')"
   ]
  },
  {
   "cell_type": "code",
   "execution_count": 5,
   "metadata": {},
   "outputs": [
    {
     "data": {
      "text/html": [
       "<div>\n",
       "<style scoped>\n",
       "    .dataframe tbody tr th:only-of-type {\n",
       "        vertical-align: middle;\n",
       "    }\n",
       "\n",
       "    .dataframe tbody tr th {\n",
       "        vertical-align: top;\n",
       "    }\n",
       "\n",
       "    .dataframe thead th {\n",
       "        text-align: right;\n",
       "    }\n",
       "</style>\n",
       "<table border=\"1\" class=\"dataframe\">\n",
       "  <thead>\n",
       "    <tr style=\"text-align: right;\">\n",
       "      <th></th>\n",
       "      <th>ZipCode</th>\n",
       "      <th>City</th>\n",
       "      <th>State</th>\n",
       "      <th>Metro</th>\n",
       "      <th>CountyName</th>\n",
       "      <th>SizeRank</th>\n",
       "      <th>1996-04-01 00:00:00</th>\n",
       "      <th>1996-05-01 00:00:00</th>\n",
       "      <th>1996-06-01 00:00:00</th>\n",
       "      <th>1996-07-01 00:00:00</th>\n",
       "      <th>...</th>\n",
       "      <th>2017-07-01 00:00:00</th>\n",
       "      <th>2017-08-01 00:00:00</th>\n",
       "      <th>2017-09-01 00:00:00</th>\n",
       "      <th>2017-10-01 00:00:00</th>\n",
       "      <th>2017-11-01 00:00:00</th>\n",
       "      <th>2017-12-01 00:00:00</th>\n",
       "      <th>2018-01-01 00:00:00</th>\n",
       "      <th>2018-02-01 00:00:00</th>\n",
       "      <th>2018-03-01 00:00:00</th>\n",
       "      <th>2018-04-01 00:00:00</th>\n",
       "    </tr>\n",
       "  </thead>\n",
       "  <tbody>\n",
       "    <tr>\n",
       "      <th>0</th>\n",
       "      <td>60657</td>\n",
       "      <td>Chicago</td>\n",
       "      <td>IL</td>\n",
       "      <td>Chicago</td>\n",
       "      <td>Cook</td>\n",
       "      <td>1</td>\n",
       "      <td>334200.0</td>\n",
       "      <td>335400.0</td>\n",
       "      <td>336500.0</td>\n",
       "      <td>337600.0</td>\n",
       "      <td>...</td>\n",
       "      <td>1005500</td>\n",
       "      <td>1007500</td>\n",
       "      <td>1007800</td>\n",
       "      <td>1009600</td>\n",
       "      <td>1013300</td>\n",
       "      <td>1018700</td>\n",
       "      <td>1024400</td>\n",
       "      <td>1030700</td>\n",
       "      <td>1033800</td>\n",
       "      <td>1030600</td>\n",
       "    </tr>\n",
       "    <tr>\n",
       "      <th>1</th>\n",
       "      <td>75070</td>\n",
       "      <td>McKinney</td>\n",
       "      <td>TX</td>\n",
       "      <td>Dallas-Fort Worth</td>\n",
       "      <td>Collin</td>\n",
       "      <td>2</td>\n",
       "      <td>235700.0</td>\n",
       "      <td>236900.0</td>\n",
       "      <td>236700.0</td>\n",
       "      <td>235400.0</td>\n",
       "      <td>...</td>\n",
       "      <td>308000</td>\n",
       "      <td>310000</td>\n",
       "      <td>312500</td>\n",
       "      <td>314100</td>\n",
       "      <td>315000</td>\n",
       "      <td>316600</td>\n",
       "      <td>318100</td>\n",
       "      <td>319600</td>\n",
       "      <td>321100</td>\n",
       "      <td>321800</td>\n",
       "    </tr>\n",
       "    <tr>\n",
       "      <th>2</th>\n",
       "      <td>77494</td>\n",
       "      <td>Katy</td>\n",
       "      <td>TX</td>\n",
       "      <td>Houston</td>\n",
       "      <td>Harris</td>\n",
       "      <td>3</td>\n",
       "      <td>210400.0</td>\n",
       "      <td>212200.0</td>\n",
       "      <td>212200.0</td>\n",
       "      <td>210700.0</td>\n",
       "      <td>...</td>\n",
       "      <td>321000</td>\n",
       "      <td>320600</td>\n",
       "      <td>320200</td>\n",
       "      <td>320400</td>\n",
       "      <td>320800</td>\n",
       "      <td>321200</td>\n",
       "      <td>321200</td>\n",
       "      <td>323000</td>\n",
       "      <td>326900</td>\n",
       "      <td>329900</td>\n",
       "    </tr>\n",
       "    <tr>\n",
       "      <th>3</th>\n",
       "      <td>60614</td>\n",
       "      <td>Chicago</td>\n",
       "      <td>IL</td>\n",
       "      <td>Chicago</td>\n",
       "      <td>Cook</td>\n",
       "      <td>4</td>\n",
       "      <td>498100.0</td>\n",
       "      <td>500900.0</td>\n",
       "      <td>503100.0</td>\n",
       "      <td>504600.0</td>\n",
       "      <td>...</td>\n",
       "      <td>1289800</td>\n",
       "      <td>1287700</td>\n",
       "      <td>1287400</td>\n",
       "      <td>1291500</td>\n",
       "      <td>1296600</td>\n",
       "      <td>1299000</td>\n",
       "      <td>1302700</td>\n",
       "      <td>1306400</td>\n",
       "      <td>1308500</td>\n",
       "      <td>1307000</td>\n",
       "    </tr>\n",
       "    <tr>\n",
       "      <th>4</th>\n",
       "      <td>79936</td>\n",
       "      <td>El Paso</td>\n",
       "      <td>TX</td>\n",
       "      <td>El Paso</td>\n",
       "      <td>El Paso</td>\n",
       "      <td>5</td>\n",
       "      <td>77300.0</td>\n",
       "      <td>77300.0</td>\n",
       "      <td>77300.0</td>\n",
       "      <td>77300.0</td>\n",
       "      <td>...</td>\n",
       "      <td>119100</td>\n",
       "      <td>119400</td>\n",
       "      <td>120000</td>\n",
       "      <td>120300</td>\n",
       "      <td>120300</td>\n",
       "      <td>120300</td>\n",
       "      <td>120300</td>\n",
       "      <td>120500</td>\n",
       "      <td>121000</td>\n",
       "      <td>121500</td>\n",
       "    </tr>\n",
       "  </tbody>\n",
       "</table>\n",
       "<p>5 rows × 271 columns</p>\n",
       "</div>"
      ],
      "text/plain": [
       "   ZipCode      City State              Metro CountyName  SizeRank  \\\n",
       "0    60657   Chicago    IL            Chicago       Cook         1   \n",
       "1    75070  McKinney    TX  Dallas-Fort Worth     Collin         2   \n",
       "2    77494      Katy    TX            Houston     Harris         3   \n",
       "3    60614   Chicago    IL            Chicago       Cook         4   \n",
       "4    79936   El Paso    TX            El Paso    El Paso         5   \n",
       "\n",
       "   1996-04-01 00:00:00  1996-05-01 00:00:00  1996-06-01 00:00:00  \\\n",
       "0             334200.0             335400.0             336500.0   \n",
       "1             235700.0             236900.0             236700.0   \n",
       "2             210400.0             212200.0             212200.0   \n",
       "3             498100.0             500900.0             503100.0   \n",
       "4              77300.0              77300.0              77300.0   \n",
       "\n",
       "   1996-07-01 00:00:00  ...  2017-07-01 00:00:00  2017-08-01 00:00:00  \\\n",
       "0             337600.0  ...              1005500              1007500   \n",
       "1             235400.0  ...               308000               310000   \n",
       "2             210700.0  ...               321000               320600   \n",
       "3             504600.0  ...              1289800              1287700   \n",
       "4              77300.0  ...               119100               119400   \n",
       "\n",
       "   2017-09-01 00:00:00  2017-10-01 00:00:00  2017-11-01 00:00:00  \\\n",
       "0              1007800              1009600              1013300   \n",
       "1               312500               314100               315000   \n",
       "2               320200               320400               320800   \n",
       "3              1287400              1291500              1296600   \n",
       "4               120000               120300               120300   \n",
       "\n",
       "   2017-12-01 00:00:00  2018-01-01 00:00:00  2018-02-01 00:00:00  \\\n",
       "0              1018700              1024400              1030700   \n",
       "1               316600               318100               319600   \n",
       "2               321200               321200               323000   \n",
       "3              1299000              1302700              1306400   \n",
       "4               120300               120300               120500   \n",
       "\n",
       "   2018-03-01 00:00:00  2018-04-01 00:00:00  \n",
       "0              1033800              1030600  \n",
       "1               321100               321800  \n",
       "2               326900               329900  \n",
       "3              1308500              1307000  \n",
       "4               121000               121500  \n",
       "\n",
       "[5 rows x 271 columns]"
      ]
     },
     "execution_count": 5,
     "metadata": {},
     "output_type": "execute_result"
    }
   ],
   "source": [
    "df.columns.values[6:] = get_datetimes(df)\n",
    "df.head()"
   ]
  },
  {
   "cell_type": "markdown",
   "metadata": {},
   "source": [
    "# EDA & Visualizations"
   ]
  },
  {
   "cell_type": "markdown",
   "metadata": {},
   "source": [
    "## Reasons to invest in a zipcode for housing"
   ]
  },
  {
   "cell_type": "markdown",
   "metadata": {},
   "source": [
    "- Long-term growth\n",
    "- Short-term growth\n",
    "- Recession proof"
   ]
  },
  {
   "cell_type": "markdown",
   "metadata": {},
   "source": [
    "## Diversity in Investments is very important\n",
    "\n",
    "So I want to make sure in my 5 recommendations is variety in:\n",
    "- Geographic location\n",
    "- Housing Price Point\n",
    "- Big cities/Metro areas vs. Small towns/more rural"
   ]
  },
  {
   "cell_type": "markdown",
   "metadata": {},
   "source": [
    "----------------------------------------------------------------------------------------------------------------------"
   ]
  },
  {
   "cell_type": "markdown",
   "metadata": {},
   "source": [
    "- Make column for total pct. change of house prices (to gauge long-term performance)"
   ]
  },
  {
   "cell_type": "code",
   "execution_count": 6,
   "metadata": {},
   "outputs": [],
   "source": [
    "df['total_pct_change'] = (df[df.columns[-1]] - df[df.columns[6]])/df[df.columns[6]]*100"
   ]
  },
  {
   "cell_type": "markdown",
   "metadata": {},
   "source": [
    "- Move new column from end to beginning so all time series data stay together"
   ]
  },
  {
   "cell_type": "code",
   "execution_count": 7,
   "metadata": {},
   "outputs": [],
   "source": [
    "col = df.pop('total_pct_change') \n",
    "df.insert(5, col.name, col)"
   ]
  },
  {
   "cell_type": "markdown",
   "metadata": {},
   "source": [
    "- Show differences in how these zipcodes' housing prices have changed from 1996 to 2018\n",
    "- We can see how the vast majority of zip codes had overall growth around approx 100%\n",
    "- A very small amount of zip codes has 0 or negative growth\n",
    "- A small amount of zip codes excellent growth (400-1000+).  These are obviously the zip codes we are interested in for our recommendations"
   ]
  },
  {
   "cell_type": "code",
   "execution_count": 8,
   "metadata": {
    "scrolled": true
   },
   "outputs": [
    {
     "data": {
      "image/png": "[encoded data removed]",
      "text/plain": [
       "<Figure size 432x288 with 1 Axes>"
      ]
     },
     "metadata": {
      "needs_background": "dark"
     },
     "output_type": "display_data"
    }
   ],
   "source": [
    "plt.plot(range(len(df)),df['total_pct_change'].sort_values().values)\n",
    "plt.tick_params(\n",
    "    axis='x',          # changes apply to the x-axis\n",
    "    which='both',      # both major and minor ticks are affected\n",
    "    bottom=False,      # ticks along the bottom edge are off\n",
    "    top=False,         # ticks along the top edge are off\n",
    "    labelbottom=False) # labels along the bottom edge are off\n",
    "plt.ylabel('% Change', size='large', color='g', weight='bold')\n",
    "plt.xlabel('Zip Codes', size='large', color='g', weight='bold')\n",
    "plt.yticks(color='orange', weight='bold')\n",
    "plt.title('Range of Values for % growth for All Years of Data for all Zip Codes (sorted from smallest to largest)')\n",
    "plt.show()"
   ]
  },
  {
   "cell_type": "markdown",
   "metadata": {},
   "source": [
    "- Identify column that is 5 years from last time series data point (2018-04-01)\n",
    "- Make new columns for 5 year pct change (to gauge short-term performance)"
   ]
  },
  {
   "cell_type": "code",
   "execution_count": 9,
   "metadata": {},
   "outputs": [
    {
     "data": {
      "text/plain": [
       "Timestamp('2013-04-01 00:00:00')"
      ]
     },
     "execution_count": 9,
     "metadata": {},
     "output_type": "execute_result"
    }
   ],
   "source": [
    "df.columns[211]"
   ]
  },
  {
   "cell_type": "code",
   "execution_count": 10,
   "metadata": {},
   "outputs": [],
   "source": [
    "df['5_year_pct_change'] = (df[df.columns[-1]] - df[df.columns[211]])/df[df.columns[211]]*100"
   ]
  },
  {
   "cell_type": "markdown",
   "metadata": {},
   "source": [
    "- Move new column from end to beginning so all time series data stay together"
   ]
  },
  {
   "cell_type": "code",
   "execution_count": 11,
   "metadata": {},
   "outputs": [],
   "source": [
    "col = df.pop('5_year_pct_change')\n",
    "df.insert(5, col.name, col)"
   ]
  },
  {
   "cell_type": "markdown",
   "metadata": {},
   "source": [
    "- Show differences in how these zipcodes' housing prices have changed from 2013 to 2018\n",
    "- This past 5 year pct change criterion is different but similar to the total year pct change criterion\n",
    "- Slightly more examples had negative growth\n",
    "- Most were between 25 and 75\n",
    "- But some zip codes still showed excellent growth up to ~175%"
   ]
  },
  {
   "cell_type": "code",
   "execution_count": 12,
   "metadata": {},
   "outputs": [
    {
     "data": {
      "image/png": "[encoded data removed]",
      "text/plain": [
       "<Figure size 432x288 with 1 Axes>"
      ]
     },
     "metadata": {
      "needs_background": "dark"
     },
     "output_type": "display_data"
    }
   ],
   "source": [
    "plt.plot(range(len(df)),df['5_year_pct_change'].sort_values().values)\n",
    "plt.tick_params(\n",
    "    axis='x',          # changes apply to the x-axis\n",
    "    which='both',      # both major and minor ticks are affected\n",
    "    bottom=False,      # ticks along the bottom edge are off\n",
    "    top=False,         # ticks along the top edge are off\n",
    "    labelbottom=False) # labels along the bottom edge are off\n",
    "plt.ylabel('% Change', size='large', color='g', weight='bold')\n",
    "plt.xlabel('Zip Codes', size='large', color='g', weight='bold')\n",
    "plt.yticks(color='orange', weight='bold')\n",
    "plt.title('% Change in Housing Prices from 2013 to 2018 for all Zip Codes (from smallest to largest)')\n",
    "plt.show()"
   ]
  },
  {
   "cell_type": "markdown",
   "metadata": {},
   "source": [
    "- Identify columns that mark beginning and end of major economic recession that heavily effected the housing market as a whole\n",
    "- Make new column that measures pct change over the period of economic rececssion (to gauge volatility)"
   ]
  },
  {
   "cell_type": "code",
   "execution_count": 13,
   "metadata": {},
   "outputs": [
    {
     "data": {
      "text/plain": [
       "(Timestamp('2007-12-01 00:00:00'), Timestamp('2011-12-01 00:00:00'))"
      ]
     },
     "execution_count": 13,
     "metadata": {},
     "output_type": "execute_result"
    }
   ],
   "source": [
    "df.columns[148], df.columns[196]"
   ]
  },
  {
   "cell_type": "code",
   "execution_count": 14,
   "metadata": {},
   "outputs": [],
   "source": [
    "df['recession_pct_change'] = (df[df.columns[196]] - df[df.columns[148]])/df[df.columns[148]]*100"
   ]
  },
  {
   "cell_type": "markdown",
   "metadata": {},
   "source": [
    "- Move new column from end to beginning so all time series data stay together"
   ]
  },
  {
   "cell_type": "code",
   "execution_count": 15,
   "metadata": {},
   "outputs": [],
   "source": [
    "col = df.pop('recession_pct_change') \n",
    "df.insert(5, col.name, col)"
   ]
  },
  {
   "cell_type": "markdown",
   "metadata": {},
   "source": [
    "- Show differences in how these zipcodes' housing prices have changed during the recession\n",
    "- This recession statistic is more interesting with the vast majority of zip codes seeing negative recession growth during the recession years\n",
    "- Thankfully, there was still a small portion of zip codes that saw positive growth up to about 40%"
   ]
  },
  {
   "cell_type": "code",
   "execution_count": 16,
   "metadata": {
    "scrolled": true
   },
   "outputs": [
    {
     "data": {
      "image/png": "[encoded data removed]",
      "text/plain": [
       "<Figure size 432x288 with 1 Axes>"
      ]
     },
     "metadata": {
      "needs_background": "dark"
     },
     "output_type": "display_data"
    }
   ],
   "source": [
    "plt.plot(range(len(df)),df['recession_pct_change'].sort_values().values)\n",
    "plt.tick_params(\n",
    "    axis='x',          # changes apply to the x-axis\n",
    "    which='both',      # both major and minor ticks are affected\n",
    "    bottom=False,      # ticks along the bottom edge are off\n",
    "    top=False,         # ticks along the top edge are off\n",
    "    labelbottom=False) # labels along the bottom edge are off\n",
    "plt.ylabel('% Change', size='large', color='g', weight='bold')\n",
    "plt.xlabel('Zip Codes', size='large', color='g', weight='bold')\n",
    "plt.yticks(color='orange', weight='bold')\n",
    "plt.title('% Change in Housing Prices from 2013 to 2018 for all Zip Codes (from smallest to largest)')\n",
    "plt.show()"
   ]
  },
  {
   "cell_type": "markdown",
   "metadata": {},
   "source": [
    "## Selection"
   ]
  },
  {
   "cell_type": "markdown",
   "metadata": {},
   "source": [
    "- Let's find the zipcodes with the best mix of success of our 3 new metrics \n",
    "- Are any in the top 5% of all 3 categories?"
   ]
  },
  {
   "cell_type": "code",
   "execution_count": 17,
   "metadata": {
    "scrolled": true
   },
   "outputs": [
    {
     "data": {
      "text/html": [
       "<div>\n",
       "<style scoped>\n",
       "    .dataframe tbody tr th:only-of-type {\n",
       "        vertical-align: middle;\n",
       "    }\n",
       "\n",
       "    .dataframe tbody tr th {\n",
       "        vertical-align: top;\n",
       "    }\n",
       "\n",
       "    .dataframe thead th {\n",
       "        text-align: right;\n",
       "    }\n",
       "</style>\n",
       "<table border=\"1\" class=\"dataframe\">\n",
       "  <thead>\n",
       "    <tr style=\"text-align: right;\">\n",
       "      <th></th>\n",
       "      <th>recession_pct_change</th>\n",
       "      <th>5_year_pct_change</th>\n",
       "      <th>total_pct_change</th>\n",
       "    </tr>\n",
       "  </thead>\n",
       "  <tbody>\n",
       "    <tr>\n",
       "      <th>count</th>\n",
       "      <td>14110.000000</td>\n",
       "      <td>14572.000000</td>\n",
       "      <td>13684.000000</td>\n",
       "    </tr>\n",
       "    <tr>\n",
       "      <th>mean</th>\n",
       "      <td>-18.320535</td>\n",
       "      <td>33.657962</td>\n",
       "      <td>132.560521</td>\n",
       "    </tr>\n",
       "    <tr>\n",
       "      <th>std</th>\n",
       "      <td>14.901618</td>\n",
       "      <td>23.750621</td>\n",
       "      <td>86.601907</td>\n",
       "    </tr>\n",
       "    <tr>\n",
       "      <th>min</th>\n",
       "      <td>-73.749264</td>\n",
       "      <td>-29.672650</td>\n",
       "      <td>-53.260870</td>\n",
       "    </tr>\n",
       "    <tr>\n",
       "      <th>25%</th>\n",
       "      <td>-27.049009</td>\n",
       "      <td>16.898228</td>\n",
       "      <td>78.569073</td>\n",
       "    </tr>\n",
       "    <tr>\n",
       "      <th>50%</th>\n",
       "      <td>-16.420497</td>\n",
       "      <td>28.313301</td>\n",
       "      <td>113.948445</td>\n",
       "    </tr>\n",
       "    <tr>\n",
       "      <th>75%</th>\n",
       "      <td>-7.901792</td>\n",
       "      <td>45.467508</td>\n",
       "      <td>161.983287</td>\n",
       "    </tr>\n",
       "    <tr>\n",
       "      <th>90%</th>\n",
       "      <td>-1.347881</td>\n",
       "      <td>65.621376</td>\n",
       "      <td>233.585887</td>\n",
       "    </tr>\n",
       "    <tr>\n",
       "      <th>95%</th>\n",
       "      <td>2.573716</td>\n",
       "      <td>79.656663</td>\n",
       "      <td>292.739561</td>\n",
       "    </tr>\n",
       "    <tr>\n",
       "      <th>max</th>\n",
       "      <td>44.987775</td>\n",
       "      <td>173.872951</td>\n",
       "      <td>1118.993994</td>\n",
       "    </tr>\n",
       "  </tbody>\n",
       "</table>\n",
       "</div>"
      ],
      "text/plain": [
       "       recession_pct_change  5_year_pct_change  total_pct_change\n",
       "count          14110.000000       14572.000000      13684.000000\n",
       "mean             -18.320535          33.657962        132.560521\n",
       "std               14.901618          23.750621         86.601907\n",
       "min              -73.749264         -29.672650        -53.260870\n",
       "25%              -27.049009          16.898228         78.569073\n",
       "50%              -16.420497          28.313301        113.948445\n",
       "75%               -7.901792          45.467508        161.983287\n",
       "90%               -1.347881          65.621376        233.585887\n",
       "95%                2.573716          79.656663        292.739561\n",
       "max               44.987775         173.872951       1118.993994"
      ]
     },
     "execution_count": 17,
     "metadata": {},
     "output_type": "execute_result"
    }
   ],
   "source": [
    "df[df.columns[5:8]].describe(percentiles=[.25,.5,.75,.9,.95])"
   ]
  },
  {
   "cell_type": "code",
   "execution_count": 18,
   "metadata": {},
   "outputs": [
    {
     "data": {
      "text/html": [
       "<div>\n",
       "<style scoped>\n",
       "    .dataframe tbody tr th:only-of-type {\n",
       "        vertical-align: middle;\n",
       "    }\n",
       "\n",
       "    .dataframe tbody tr th {\n",
       "        vertical-align: top;\n",
       "    }\n",
       "\n",
       "    .dataframe thead th {\n",
       "        text-align: right;\n",
       "    }\n",
       "</style>\n",
       "<table border=\"1\" class=\"dataframe\">\n",
       "  <thead>\n",
       "    <tr style=\"text-align: right;\">\n",
       "      <th></th>\n",
       "      <th>ZipCode</th>\n",
       "      <th>City</th>\n",
       "      <th>State</th>\n",
       "      <th>Metro</th>\n",
       "      <th>CountyName</th>\n",
       "      <th>recession_pct_change</th>\n",
       "      <th>5_year_pct_change</th>\n",
       "      <th>total_pct_change</th>\n",
       "      <th>SizeRank</th>\n",
       "      <th>1996-04-01 00:00:00</th>\n",
       "      <th>...</th>\n",
       "      <th>2017-07-01 00:00:00</th>\n",
       "      <th>2017-08-01 00:00:00</th>\n",
       "      <th>2017-09-01 00:00:00</th>\n",
       "      <th>2017-10-01 00:00:00</th>\n",
       "      <th>2017-11-01 00:00:00</th>\n",
       "      <th>2017-12-01 00:00:00</th>\n",
       "      <th>2018-01-01 00:00:00</th>\n",
       "      <th>2018-02-01 00:00:00</th>\n",
       "      <th>2018-03-01 00:00:00</th>\n",
       "      <th>2018-04-01 00:00:00</th>\n",
       "    </tr>\n",
       "  </thead>\n",
       "  <tbody>\n",
       "    <tr>\n",
       "      <th>117</th>\n",
       "      <td>11211</td>\n",
       "      <td>New York</td>\n",
       "      <td>NY</td>\n",
       "      <td>New York</td>\n",
       "      <td>Kings</td>\n",
       "      <td>6.406859</td>\n",
       "      <td>106.867117</td>\n",
       "      <td>1118.993994</td>\n",
       "      <td>118</td>\n",
       "      <td>133200.0</td>\n",
       "      <td>...</td>\n",
       "      <td>1405100</td>\n",
       "      <td>1406400</td>\n",
       "      <td>1424700</td>\n",
       "      <td>1435300</td>\n",
       "      <td>1440500</td>\n",
       "      <td>1463100</td>\n",
       "      <td>1496100</td>\n",
       "      <td>1531100</td>\n",
       "      <td>1581900</td>\n",
       "      <td>1623700</td>\n",
       "    </tr>\n",
       "    <tr>\n",
       "      <th>1155</th>\n",
       "      <td>11222</td>\n",
       "      <td>New York</td>\n",
       "      <td>NY</td>\n",
       "      <td>New York</td>\n",
       "      <td>Kings</td>\n",
       "      <td>10.828025</td>\n",
       "      <td>118.247527</td>\n",
       "      <td>1053.552279</td>\n",
       "      <td>1156</td>\n",
       "      <td>149200.0</td>\n",
       "      <td>...</td>\n",
       "      <td>1598000</td>\n",
       "      <td>1623800</td>\n",
       "      <td>1638700</td>\n",
       "      <td>1640400</td>\n",
       "      <td>1644100</td>\n",
       "      <td>1651200</td>\n",
       "      <td>1661800</td>\n",
       "      <td>1672800</td>\n",
       "      <td>1694000</td>\n",
       "      <td>1721100</td>\n",
       "    </tr>\n",
       "    <tr>\n",
       "      <th>1773</th>\n",
       "      <td>2139</td>\n",
       "      <td>Cambridge</td>\n",
       "      <td>MA</td>\n",
       "      <td>Boston</td>\n",
       "      <td>Middlesex</td>\n",
       "      <td>3.778832</td>\n",
       "      <td>97.799686</td>\n",
       "      <td>551.482353</td>\n",
       "      <td>1774</td>\n",
       "      <td>212500.0</td>\n",
       "      <td>...</td>\n",
       "      <td>1234700</td>\n",
       "      <td>1248100</td>\n",
       "      <td>1259200</td>\n",
       "      <td>1278600</td>\n",
       "      <td>1303600</td>\n",
       "      <td>1325000</td>\n",
       "      <td>1342600</td>\n",
       "      <td>1369600</td>\n",
       "      <td>1386300</td>\n",
       "      <td>1384400</td>\n",
       "    </tr>\n",
       "    <tr>\n",
       "      <th>2054</th>\n",
       "      <td>94303</td>\n",
       "      <td>Palo Alto</td>\n",
       "      <td>CA</td>\n",
       "      <td>San Jose</td>\n",
       "      <td>Santa Clara</td>\n",
       "      <td>5.802239</td>\n",
       "      <td>86.118864</td>\n",
       "      <td>630.403420</td>\n",
       "      <td>2055</td>\n",
       "      <td>374300.0</td>\n",
       "      <td>...</td>\n",
       "      <td>2416900</td>\n",
       "      <td>2456800</td>\n",
       "      <td>2522600</td>\n",
       "      <td>2598400</td>\n",
       "      <td>2647600</td>\n",
       "      <td>2657900</td>\n",
       "      <td>2659800</td>\n",
       "      <td>2683900</td>\n",
       "      <td>2718600</td>\n",
       "      <td>2733900</td>\n",
       "    </tr>\n",
       "    <tr>\n",
       "      <th>3325</th>\n",
       "      <td>15213</td>\n",
       "      <td>Pittsburgh</td>\n",
       "      <td>PA</td>\n",
       "      <td>Pittsburgh</td>\n",
       "      <td>Allegheny</td>\n",
       "      <td>3.624009</td>\n",
       "      <td>113.265306</td>\n",
       "      <td>356.553398</td>\n",
       "      <td>3326</td>\n",
       "      <td>41200.0</td>\n",
       "      <td>...</td>\n",
       "      <td>173900</td>\n",
       "      <td>175400</td>\n",
       "      <td>177500</td>\n",
       "      <td>181000</td>\n",
       "      <td>184600</td>\n",
       "      <td>186700</td>\n",
       "      <td>188000</td>\n",
       "      <td>188900</td>\n",
       "      <td>189000</td>\n",
       "      <td>188100</td>\n",
       "    </tr>\n",
       "    <tr>\n",
       "      <th>6160</th>\n",
       "      <td>2141</td>\n",
       "      <td>Cambridge</td>\n",
       "      <td>MA</td>\n",
       "      <td>Boston</td>\n",
       "      <td>Middlesex</td>\n",
       "      <td>3.580388</td>\n",
       "      <td>98.038038</td>\n",
       "      <td>553.368560</td>\n",
       "      <td>6161</td>\n",
       "      <td>151400.0</td>\n",
       "      <td>...</td>\n",
       "      <td>887800</td>\n",
       "      <td>896800</td>\n",
       "      <td>905900</td>\n",
       "      <td>917700</td>\n",
       "      <td>931300</td>\n",
       "      <td>941100</td>\n",
       "      <td>951200</td>\n",
       "      <td>966000</td>\n",
       "      <td>981500</td>\n",
       "      <td>989200</td>\n",
       "    </tr>\n",
       "    <tr>\n",
       "      <th>6563</th>\n",
       "      <td>15201</td>\n",
       "      <td>Pittsburgh</td>\n",
       "      <td>PA</td>\n",
       "      <td>Pittsburgh</td>\n",
       "      <td>Allegheny</td>\n",
       "      <td>6.156156</td>\n",
       "      <td>147.593583</td>\n",
       "      <td>438.372093</td>\n",
       "      <td>6564</td>\n",
       "      <td>34400.0</td>\n",
       "      <td>...</td>\n",
       "      <td>162300</td>\n",
       "      <td>164400</td>\n",
       "      <td>166100</td>\n",
       "      <td>167600</td>\n",
       "      <td>169000</td>\n",
       "      <td>170400</td>\n",
       "      <td>171400</td>\n",
       "      <td>173900</td>\n",
       "      <td>179700</td>\n",
       "      <td>185200</td>\n",
       "    </tr>\n",
       "    <tr>\n",
       "      <th>7500</th>\n",
       "      <td>2120</td>\n",
       "      <td>Boston</td>\n",
       "      <td>MA</td>\n",
       "      <td>Boston</td>\n",
       "      <td>Suffolk</td>\n",
       "      <td>4.311985</td>\n",
       "      <td>98.483146</td>\n",
       "      <td>702.954545</td>\n",
       "      <td>7501</td>\n",
       "      <td>88000.0</td>\n",
       "      <td>...</td>\n",
       "      <td>659200</td>\n",
       "      <td>669000</td>\n",
       "      <td>672500</td>\n",
       "      <td>680500</td>\n",
       "      <td>689100</td>\n",
       "      <td>696200</td>\n",
       "      <td>697000</td>\n",
       "      <td>704500</td>\n",
       "      <td>710400</td>\n",
       "      <td>706600</td>\n",
       "    </tr>\n",
       "    <tr>\n",
       "      <th>8350</th>\n",
       "      <td>78721</td>\n",
       "      <td>Austin</td>\n",
       "      <td>TX</td>\n",
       "      <td>Austin</td>\n",
       "      <td>Travis</td>\n",
       "      <td>2.993585</td>\n",
       "      <td>104.488950</td>\n",
       "      <td>327.890173</td>\n",
       "      <td>8351</td>\n",
       "      <td>69200.0</td>\n",
       "      <td>...</td>\n",
       "      <td>279600</td>\n",
       "      <td>281200</td>\n",
       "      <td>281500</td>\n",
       "      <td>284000</td>\n",
       "      <td>288500</td>\n",
       "      <td>293000</td>\n",
       "      <td>296300</td>\n",
       "      <td>297800</td>\n",
       "      <td>297200</td>\n",
       "      <td>296100</td>\n",
       "    </tr>\n",
       "    <tr>\n",
       "      <th>13591</th>\n",
       "      <td>95389</td>\n",
       "      <td>El Portal</td>\n",
       "      <td>CA</td>\n",
       "      <td>NaN</td>\n",
       "      <td>Mariposa</td>\n",
       "      <td>3.649001</td>\n",
       "      <td>83.785740</td>\n",
       "      <td>386.864813</td>\n",
       "      <td>13592</td>\n",
       "      <td>104300.0</td>\n",
       "      <td>...</td>\n",
       "      <td>495200</td>\n",
       "      <td>494000</td>\n",
       "      <td>496800</td>\n",
       "      <td>500100</td>\n",
       "      <td>500400</td>\n",
       "      <td>500100</td>\n",
       "      <td>502100</td>\n",
       "      <td>504400</td>\n",
       "      <td>506900</td>\n",
       "      <td>507800</td>\n",
       "    </tr>\n",
       "  </tbody>\n",
       "</table>\n",
       "<p>10 rows × 274 columns</p>\n",
       "</div>"
      ],
      "text/plain": [
       "       ZipCode        City State       Metro   CountyName  \\\n",
       "117      11211    New York    NY    New York        Kings   \n",
       "1155     11222    New York    NY    New York        Kings   \n",
       "1773      2139   Cambridge    MA      Boston    Middlesex   \n",
       "2054     94303   Palo Alto    CA    San Jose  Santa Clara   \n",
       "3325     15213  Pittsburgh    PA  Pittsburgh    Allegheny   \n",
       "6160      2141   Cambridge    MA      Boston    Middlesex   \n",
       "6563     15201  Pittsburgh    PA  Pittsburgh    Allegheny   \n",
       "7500      2120      Boston    MA      Boston      Suffolk   \n",
       "8350     78721      Austin    TX      Austin       Travis   \n",
       "13591    95389   El Portal    CA         NaN     Mariposa   \n",
       "\n",
       "       recession_pct_change  5_year_pct_change  total_pct_change  SizeRank  \\\n",
       "117                6.406859         106.867117       1118.993994       118   \n",
       "1155              10.828025         118.247527       1053.552279      1156   \n",
       "1773               3.778832          97.799686        551.482353      1774   \n",
       "2054               5.802239          86.118864        630.403420      2055   \n",
       "3325               3.624009         113.265306        356.553398      3326   \n",
       "6160               3.580388          98.038038        553.368560      6161   \n",
       "6563               6.156156         147.593583        438.372093      6564   \n",
       "7500               4.311985          98.483146        702.954545      7501   \n",
       "8350               2.993585         104.488950        327.890173      8351   \n",
       "13591              3.649001          83.785740        386.864813     13592   \n",
       "\n",
       "       1996-04-01 00:00:00  ...  2017-07-01 00:00:00  2017-08-01 00:00:00  \\\n",
       "117               133200.0  ...              1405100              1406400   \n",
       "1155              149200.0  ...              1598000              1623800   \n",
       "1773              212500.0  ...              1234700              1248100   \n",
       "2054              374300.0  ...              2416900              2456800   \n",
       "3325               41200.0  ...               173900               175400   \n",
       "6160              151400.0  ...               887800               896800   \n",
       "6563               34400.0  ...               162300               164400   \n",
       "7500               88000.0  ...               659200               669000   \n",
       "8350               69200.0  ...               279600               281200   \n",
       "13591             104300.0  ...               495200               494000   \n",
       "\n",
       "       2017-09-01 00:00:00  2017-10-01 00:00:00  2017-11-01 00:00:00  \\\n",
       "117                1424700              1435300              1440500   \n",
       "1155               1638700              1640400              1644100   \n",
       "1773               1259200              1278600              1303600   \n",
       "2054               2522600              2598400              2647600   \n",
       "3325                177500               181000               184600   \n",
       "6160                905900               917700               931300   \n",
       "6563                166100               167600               169000   \n",
       "7500                672500               680500               689100   \n",
       "8350                281500               284000               288500   \n",
       "13591               496800               500100               500400   \n",
       "\n",
       "       2017-12-01 00:00:00  2018-01-01 00:00:00  2018-02-01 00:00:00  \\\n",
       "117                1463100              1496100              1531100   \n",
       "1155               1651200              1661800              1672800   \n",
       "1773               1325000              1342600              1369600   \n",
       "2054               2657900              2659800              2683900   \n",
       "3325                186700               188000               188900   \n",
       "6160                941100               951200               966000   \n",
       "6563                170400               171400               173900   \n",
       "7500                696200               697000               704500   \n",
       "8350                293000               296300               297800   \n",
       "13591               500100               502100               504400   \n",
       "\n",
       "       2018-03-01 00:00:00  2018-04-01 00:00:00  \n",
       "117                1581900              1623700  \n",
       "1155               1694000              1721100  \n",
       "1773               1386300              1384400  \n",
       "2054               2718600              2733900  \n",
       "3325                189000               188100  \n",
       "6160                981500               989200  \n",
       "6563                179700               185200  \n",
       "7500                710400               706600  \n",
       "8350                297200               296100  \n",
       "13591               506900               507800  \n",
       "\n",
       "[10 rows x 274 columns]"
      ]
     },
     "execution_count": 18,
     "metadata": {},
     "output_type": "execute_result"
    }
   ],
   "source": [
    "df.loc[(df['recession_pct_change']>2.5) & (df['5_year_pct_change']>79) & (df['total_pct_change']>292)]"
   ]
  },
  {
   "cell_type": "markdown",
   "metadata": {},
   "source": [
    "- Thankfully there are 10 total zip codes that placed in the top 5% of each of the criteria.  I was worried that while some zip codes would be among the best in 1 or 2 criteria that maybe none would be at the top of the 'class' of all 3\n",
    "- There is a good mix of smaller and larger zipcodes, and lower and upper housing price ranges\n",
    "- I will pick the 5 to recommend from these 10 taking into account variety so I can help the investors have a diversified portfolio in the housing market.  I especially didn't want to pick 2 from any city even though New York City and the Boston area accounted for 5 of our top 10\n",
    "- My 5 recommendations are:\n",
    "- 11211 (expensive homes, east coast, big city)\n",
    "- 94303 (very expensive homes, west coast)\n",
    "- 15201 (inexpensive homes, big city, midwest)\n",
    "- 78721 (mid-level homes, southwest)\n",
    "- 95389 (mid-level homes, west coast, small city)"
   ]
  },
  {
   "cell_type": "code",
   "execution_count": 19,
   "metadata": {
    "scrolled": true
   },
   "outputs": [],
   "source": [
    "#Create a new dataframe of just the top5 \n",
    "top5 = [11211, 94303, 15201, 78721, 95389]\n",
    "top5_df = df[df['ZipCode'].isin(top5)]"
   ]
  },
  {
   "cell_type": "markdown",
   "metadata": {},
   "source": [
    "helper function"
   ]
  },
  {
   "cell_type": "code",
   "execution_count": 20,
   "metadata": {},
   "outputs": [],
   "source": [
    "def melt_data(df):\n",
    "    melted = pd.melt(df, id_vars=['ZipCode', 'City', 'State', 'Metro', \n",
    "                                  'CountyName', 'recession_pct_change', '5_year_pct_change', \n",
    "                                  'total_pct_change', 'SizeRank'], var_name='time')\n",
    "    melted['time'] = pd.to_datetime(melted['time'], infer_datetime_format=True)\n",
    "    melted = melted.dropna(subset=['value'])\n",
    "    return melted.groupby('time').aggregate({'value':'mean'})"
   ]
  },
  {
   "cell_type": "markdown",
   "metadata": {},
   "source": [
    "- Create dataframes that are averages of all zipcodes (top 5 vs all) included, for purposes of comparison, using helper function\n",
    "- I thought it would be simpler to take the averages of both my recommended zipcodes and the total average of all zip codes because then I could visualize 1 thing (line plot, or values in a bar graph) against another and it would be most clear\n",
    "- Create graph showing huge difference between performance of the housing markets in my recommendations vs the average zip code"
   ]
  },
  {
   "cell_type": "code",
   "execution_count": 21,
   "metadata": {},
   "outputs": [],
   "source": [
    "melted_top5 = melt_data(top5_df)\n",
    "melted_orig = melt_data(df)"
   ]
  },
  {
   "cell_type": "code",
   "execution_count": 22,
   "metadata": {},
   "outputs": [
    {
     "data": {
      "image/png": "[encoded data removed]",
      "text/plain": [
       "<Figure size 720x432 with 1 Axes>"
      ]
     },
     "metadata": {
      "needs_background": "dark"
     },
     "output_type": "display_data"
    }
   ],
   "source": [
    "plt.figure(figsize=(10,6))\n",
    "plt.plot(melted_top5.index, melted_top5.values, lw=5, label='Avg. of Top 5 Zip Codes')\n",
    "plt.plot(melted_orig.index, melted_orig.values, lw=5, label='Avg. Zip Code')\n",
    "plt.ylabel('House Prices in $', size='large', color='g', weight='bold')\n",
    "plt.title('Growth in Housing Market For All Zip Codes vs Growth in Housing Market For My Recommended ZipCodes')\n",
    "plt.yticks(color='orange', weight='bold')\n",
    "plt.xticks(color='orange', weight='bold')\n",
    "plt.legend()\n",
    "plt.show()"
   ]
  },
  {
   "cell_type": "markdown",
   "metadata": {},
   "source": [
    "- Graph Showing Exactly How Much the best zipcodes outperform the average zipcode in our 3 metrics"
   ]
  },
  {
   "cell_type": "code",
   "execution_count": 23,
   "metadata": {},
   "outputs": [
    {
     "data": {
      "image/png": "[encoded data removed]",
      "text/plain": [
       "<Figure size 720x432 with 1 Axes>"
      ]
     },
     "metadata": {},
     "output_type": "display_data"
    }
   ],
   "source": [
    "N = 3\n",
    "top5_medians = top5_df[top5_df.columns[5:8]].median().values\n",
    "all_medians = df[df.columns[5:8]].median().values\n",
    "\n",
    "ind = np.arange(N) \n",
    "width = 0.35 \n",
    "\n",
    "plt.figure(figsize=(10,6))\n",
    "bars1 = plt.bar(ind, top5_medians, width, label='Avg. of Top 5 Zip Codes')\n",
    "bars2 = plt.bar(ind + width, all_medians, width,\n",
    "    label='Avg. ZipCode')\n",
    "\n",
    "for rect in bars1:\n",
    "    height = rect.get_height()\n",
    "    plt.text(rect.get_x() + rect.get_width()/2.0, height, '%d' % int(height), ha='center', va='bottom', size='x-large')\n",
    "for rect in bars2:\n",
    "    height = rect.get_height()\n",
    "    if(height<0):\n",
    "        plt.text(rect.get_x() + rect.get_width()/2.0, height-20, '%d' % int(height), ha='center', va='bottom', size='x-large')\n",
    "    else:\n",
    "        plt.text(rect.get_x() + rect.get_width()/2.0, height, '%d' % int(height), ha='center', va='bottom', size='x-large')\n",
    "\n",
    "plt.ylabel('% Change', size='large', color='g', weight='bold')\n",
    "plt.title('% Change in Housing Prices for 3 Criteria Time Periods')\n",
    "\n",
    "plt.xticks(ind + width / 2, ('Recession', 'Last 5 Years', 'Total (1996-2018)'), size='large', color='g', weight='bold')\n",
    "plt.ylim(top=500)\n",
    "plt.yticks(color='orange', weight='bold')\n",
    "plt.legend(loc='best')\n",
    "plt.show()"
   ]
  },
  {
   "cell_type": "markdown",
   "metadata": {},
   "source": [
    "# Modeling"
   ]
  },
  {
   "cell_type": "markdown",
   "metadata": {},
   "source": [
    "### Create Model\n",
    "\n",
    "- The model I am making is going to be based on the average data from the top5 recommended zipcodes.  These ARIMA models can only take in one time series at a time so instead of making 5 different models trained from each of the top5 zip codes I would combine them all into one (via mean at each time period).  This will make visualization more easy on the eyes and also helps against possible overfitting because the model will now have to account for 5 similar but slightly different trends/movement"
   ]
  },
  {
   "cell_type": "markdown",
   "metadata": {},
   "source": [
    "-------------------------------------------------------------------------------------------------------------------------------"
   ]
  },
  {
   "cell_type": "markdown",
   "metadata": {},
   "source": [
    "- Set up combinations of parameters so we can find the best fit for our model"
   ]
  },
  {
   "cell_type": "code",
   "execution_count": 24,
   "metadata": {},
   "outputs": [],
   "source": [
    "# Define the p, d and q parameters to take any value between 0 and 3\n",
    "p = d = q = range(0,4)\n",
    "\n",
    "# Generate all different combinations of p, d and q triplets\n",
    "pdq = list(itertools.product(p, d, q))"
   ]
  },
  {
   "cell_type": "markdown",
   "metadata": {},
   "source": [
    "- Create test variable for modelling that makes tweaking data input a 1 line code change instead of many"
   ]
  },
  {
   "cell_type": "code",
   "execution_count": 25,
   "metadata": {},
   "outputs": [],
   "source": [
    "test = melted_top5"
   ]
  },
  {
   "cell_type": "markdown",
   "metadata": {},
   "source": [
    "- Train models using SARIMAX with all possible parameter combinations and record the AIC score of each model"
   ]
  },
  {
   "cell_type": "code",
   "execution_count": 26,
   "metadata": {},
   "outputs": [],
   "source": [
    "ans = []\n",
    "for comb in pdq:\n",
    "    try:\n",
    "        mod = sm.tsa.statespace.SARIMAX(test,\n",
    "                                        order=comb)\n",
    "\n",
    "        output = mod.fit()\n",
    "        ans.append([comb, output.aic])\n",
    "    except:\n",
    "        continue"
   ]
  },
  {
   "cell_type": "markdown",
   "metadata": {},
   "source": [
    "- Show the model with the lowest AIC score"
   ]
  },
  {
   "cell_type": "code",
   "execution_count": 27,
   "metadata": {},
   "outputs": [
    {
     "data": {
      "text/plain": [
       "pdq    (2, 3, 2)\n",
       "aic      4712.11\n",
       "Name: 28, dtype: object"
      ]
     },
     "execution_count": 27,
     "metadata": {},
     "output_type": "execute_result"
    }
   ],
   "source": [
    "ans_df = pd.DataFrame(ans, columns=['pdq', 'aic'])\n",
    "ans_df.loc[ans_df['aic'].idxmin()]"
   ]
  },
  {
   "cell_type": "markdown",
   "metadata": {},
   "source": [
    "- Use the chosen parameters to fit the model we will now use for forecasting\n",
    "- Show significance of each feature"
   ]
  },
  {
   "cell_type": "code",
   "execution_count": 28,
   "metadata": {},
   "outputs": [
    {
     "name": "stdout",
     "output_type": "stream",
     "text": [
      "==============================================================================\n",
      "                 coef    std err          z      P>|z|      [0.025      0.975]\n",
      "------------------------------------------------------------------------------\n",
      "ar.L1          1.2460      0.057     21.755      0.000       1.134       1.358\n",
      "ar.L2         -0.4186      0.036    -11.540      0.000      -0.490      -0.347\n",
      "ma.L1         -1.8919      0.051    -37.243      0.000      -1.991      -1.792\n",
      "ma.L2          0.8933      0.050     17.793      0.000       0.795       0.992\n",
      "sigma2      3.534e+06   4.83e-09   7.32e+14      0.000    3.53e+06    3.53e+06\n",
      "==============================================================================\n"
     ]
    }
   ],
   "source": [
    "ARIMA_MODEL = sm.tsa.statespace.SARIMAX(test,\n",
    "                                order=(2, 3, 2))\n",
    "\n",
    "output = ARIMA_MODEL.fit()\n",
    "\n",
    "print(output.summary().tables[1])"
   ]
  },
  {
   "cell_type": "markdown",
   "metadata": {},
   "source": [
    "### Validate Model"
   ]
  },
  {
   "cell_type": "markdown",
   "metadata": {},
   "source": [
    "- Do a One-Step Ahead Forecast from 2014-2018 to test our model's forecasting abilities\n",
    "- Plot comparison showing only data from 2010 onward to make it easier to visualize the forecasted part as that is what we are interested in this graph\n",
    "- (Keep in mind that though the graph only shows 2010 to 2018, our model was trained on the entire data set from 1996-2018)"
   ]
  },
  {
   "cell_type": "code",
   "execution_count": 29,
   "metadata": {},
   "outputs": [],
   "source": [
    "pred = output.get_prediction(start=pd.to_datetime('2014-01-01'), dynamic=False)\n",
    "pred_conf = pred.conf_int()"
   ]
  },
  {
   "cell_type": "code",
   "execution_count": 30,
   "metadata": {
    "scrolled": true
   },
   "outputs": [
    {
     "data": {
      "image/png": "[encoded data removed]",
      "text/plain": [
       "<Figure size 432x288 with 1 Axes>"
      ]
     },
     "metadata": {
      "needs_background": "light"
     },
     "output_type": "display_data"
    }
   ],
   "source": [
    "#Plot observed values\n",
    "ax = test['2010':].plot(lw=5)\n",
    "\n",
    "#Plot predicted values\n",
    "pred.predicted_mean.plot(ax=ax, label='One-step ahead Forecast', alpha=.7, lw=5)\n",
    "\n",
    "#Set axes labels\n",
    "ax.set_xlabel('Date')\n",
    "ax.set_ylabel('House Prices')\n",
    "ax.legend(['Observed','One-Step Ahead Forecast'])\n",
    "\n",
    "plt.show()"
   ]
  },
  {
   "cell_type": "markdown",
   "metadata": {},
   "source": [
    "- The forecast largely matches the observed values from 2014-2018.  This is a good sign that our model can forecast accurately but we now do a dynamic forecast to further judge"
   ]
  },
  {
   "cell_type": "markdown",
   "metadata": {},
   "source": [
    "-------------------------------------------------------------------------------------------------------------------------------"
   ]
  },
  {
   "cell_type": "markdown",
   "metadata": {},
   "source": [
    "- Do a Dynamic Forecast (again from 2014-2018) to even further (and more realistically) gauge the accuracy of our model's ability to forecast accurately\n",
    "- Plot comparison showing only data from 2010 onward to make it easier to visualize the forecasted part as that is what we are interested in this graph\n",
    "- (Keep in mind that though the graph only shows 2010 to 2018, our model was trained on the entire data set from 1996-2018)"
   ]
  },
  {
   "cell_type": "code",
   "execution_count": 31,
   "metadata": {},
   "outputs": [],
   "source": [
    "# Get dynamic predictions with confidence intervals \n",
    "pred_dynamic = output.get_prediction(start=pd.to_datetime('2014-01-01'), dynamic=True, full_results=True)\n",
    "pred_dynamic_conf = pred_dynamic.conf_int()"
   ]
  },
  {
   "cell_type": "code",
   "execution_count": 32,
   "metadata": {
    "scrolled": true
   },
   "outputs": [
    {
     "data": {
      "image/png": "[encoded data removed]",
      "text/plain": [
       "<Figure size 432x288 with 1 Axes>"
      ]
     },
     "metadata": {
      "needs_background": "light"
     },
     "output_type": "display_data"
    }
   ],
   "source": [
    "ax = test['2010':].plot(lw=5)\n",
    "pred_dynamic.predicted_mean.plot(lw=5, ax=ax, alpha=.7)\n",
    "\n",
    "ax.fill_between(pred_dynamic_conf.index,\n",
    "                pred_dynamic_conf.iloc[:, 0],\n",
    "                pred_dynamic_conf.iloc[:, 1], color='g', alpha=.3)\n",
    "\n",
    "ax.set_xlabel('Date')\n",
    "ax.set_ylabel('House Prices')\n",
    "ax.legend(['Observed','Dynamic Forecast'])\n",
    "\n",
    "plt.show()"
   ]
  },
  {
   "cell_type": "markdown",
   "metadata": {},
   "source": [
    "- This forecast has more error than the one-step foreacting but I think it sufficiently captures the overall trend so I think it's fair to move forward with this model for actual future forecasting"
   ]
  },
  {
   "cell_type": "markdown",
   "metadata": {},
   "source": [
    "### Forecast"
   ]
  },
  {
   "cell_type": "markdown",
   "metadata": {},
   "source": [
    "- Get Forecasts for 3 years (36 months)\n",
    "- Get Confidence Intervals\n",
    "- Plot Entire Time Series plus Forecast"
   ]
  },
  {
   "cell_type": "code",
   "execution_count": 33,
   "metadata": {},
   "outputs": [],
   "source": [
    "prediction = output.get_forecast(steps=36)\n",
    "\n",
    "pred_conf = prediction.conf_int()"
   ]
  },
  {
   "cell_type": "code",
   "execution_count": 34,
   "metadata": {
    "scrolled": true
   },
   "outputs": [
    {
     "data": {
      "image/png": "[encoded data removed]",
      "text/plain": [
       "<Figure size 864x576 with 1 Axes>"
      ]
     },
     "metadata": {
      "needs_background": "dark"
     },
     "output_type": "display_data"
    }
   ],
   "source": [
    "ax = test.plot(lw=5, figsize=(12,8))\n",
    "prediction.predicted_mean.plot(ax=ax, lw=5, ls='--')\n",
    "ax.fill_between(pred_conf.index,\n",
    "                pred_conf.iloc[:, 0],\n",
    "                pred_conf.iloc[:, 1], color='g', alpha=.25)\n",
    "\n",
    "ax.set_xlabel('Date')\n",
    "ax.set_ylabel('House Prices in $', color='g', weight='bold')\n",
    "plt.yticks(color='orange', weight='bold')\n",
    "plt.xticks(color='orange', weight='bold')\n",
    "ax.legend(['Observed','Forecast'])\n",
    "\n",
    "plt.show()"
   ]
  },
  {
   "cell_type": "markdown",
   "metadata": {},
   "source": [
    "- The forecast looks very reasonable to me.  The increase isn't quite as steep as the observed last few years but that makes sense because the model is supposed to take all the data into account and the growth rates weren't as high from 1996-2012"
   ]
  },
  {
   "cell_type": "markdown",
   "metadata": {},
   "source": [
    "-------------------------------------------------------------------------------------------------------------------------------"
   ]
  },
  {
   "cell_type": "markdown",
   "metadata": {},
   "source": [
    "- Get % Growth from the 3 years of new future forecasted data\n",
    "- Store in variable for later"
   ]
  },
  {
   "cell_type": "code",
   "execution_count": 35,
   "metadata": {},
   "outputs": [],
   "source": [
    "forecasted_3yr_pct_chg_recs = (prediction.predicted_mean[-1] - prediction.predicted_mean[0])/prediction.predicted_mean[-1]*100\n",
    "forecasted_3yr_pct_chg_recs = round(forecasted_3yr_pct_chg_recs,1)"
   ]
  },
  {
   "cell_type": "markdown",
   "metadata": {},
   "source": [
    "### Quick Second Model For Comparison\n",
    "\n",
    "- This model, like the first model, uses average housing price (at each time index) of multiple zip codes.  This time using ALL the available zip codes. That's because this model is supposed to represent your average housing market forecasting.  "
   ]
  },
  {
   "cell_type": "code",
   "execution_count": 36,
   "metadata": {},
   "outputs": [],
   "source": [
    "test2 = melted_orig"
   ]
  },
  {
   "cell_type": "code",
   "execution_count": 37,
   "metadata": {},
   "outputs": [
    {
     "data": {
      "text/plain": [
       "pdq    (0, 2, 1)\n",
       "aic      3719.93\n",
       "Name: 6, dtype: object"
      ]
     },
     "execution_count": 37,
     "metadata": {},
     "output_type": "execute_result"
    }
   ],
   "source": [
    "ans = []\n",
    "for comb in pdq:\n",
    "    try:\n",
    "        mod = sm.tsa.statespace.SARIMAX(test2,\n",
    "                                        order=comb)\n",
    "\n",
    "        output = mod.fit()\n",
    "        ans.append([comb, output.aic])\n",
    "    except:\n",
    "        continue\n",
    "        \n",
    "ans_df = pd.DataFrame(ans, columns=['pdq', 'aic'])\n",
    "ans_df.loc[ans_df['aic'].idxmin()]"
   ]
  },
  {
   "cell_type": "code",
   "execution_count": 38,
   "metadata": {},
   "outputs": [],
   "source": [
    "ARIMA_MODEL = sm.tsa.statespace.SARIMAX(test2,\n",
    "                                order=(0, 2, 1))\n",
    "\n",
    "output = ARIMA_MODEL.fit()"
   ]
  },
  {
   "cell_type": "code",
   "execution_count": 39,
   "metadata": {},
   "outputs": [],
   "source": [
    "prediction = output.get_forecast(steps=36)\n",
    "\n",
    "pred_conf = prediction.conf_int()"
   ]
  },
  {
   "cell_type": "code",
   "execution_count": 40,
   "metadata": {
    "scrolled": false
   },
   "outputs": [
    {
     "data": {
      "image/png": "[encoded data removed]",
      "text/plain": [
       "<Figure size 864x360 with 1 Axes>"
      ]
     },
     "metadata": {
      "needs_background": "light"
     },
     "output_type": "display_data"
    }
   ],
   "source": [
    "ax = test2.plot(lw=5, figsize=(12,5))\n",
    "prediction.predicted_mean.plot(ax=ax, lw=5, ls='--')\n",
    "ax.fill_between(pred_conf.index,\n",
    "                pred_conf.iloc[:, 0],\n",
    "                pred_conf.iloc[:, 1], color='g', alpha=.25)\n",
    "\n",
    "ax.set_xlabel('Date')\n",
    "ax.set_ylabel('House Prices')\n",
    "ax.legend(['Observed','Forecast'])\n",
    "\n",
    "plt.show()"
   ]
  },
  {
   "cell_type": "markdown",
   "metadata": {},
   "source": [
    "I'm a little surprised the forecasted growth is as steep as it shows.  It's basically not taking into account the negative growth during the recession years.  I thought the forecast would be increasing but at a more tempered rate.  "
   ]
  },
  {
   "cell_type": "markdown",
   "metadata": {},
   "source": [
    "### Chart Showing Difference in Growth Based On Forecasting (Top 5 vs. Average)"
   ]
  },
  {
   "cell_type": "code",
   "execution_count": 41,
   "metadata": {},
   "outputs": [],
   "source": [
    "forecasted_3yr_pct_chg_orig = (prediction.predicted_mean[-1] - prediction.predicted_mean[0])/prediction.predicted_mean[-1]*100\n",
    "forecasted_3yr_pct_chg_orig = round(forecasted_3yr_pct_chg_orig,1)"
   ]
  },
  {
   "cell_type": "code",
   "execution_count": 42,
   "metadata": {},
   "outputs": [
    {
     "data": {
      "image/png": "[encoded data removed]",
      "text/plain": [
       "<Figure size 576x432 with 1 Axes>"
      ]
     },
     "metadata": {
      "needs_background": "dark"
     },
     "output_type": "display_data"
    }
   ],
   "source": [
    "plt.figure(figsize=(8,6))\n",
    "bars = plt.bar(['Recommended Zip Codes', 'Average Zip Code'], [24.2, 15.9], color=['b', 'r'])\n",
    "for rect in bars:\n",
    "    height = rect.get_height()\n",
    "    plt.text(rect.get_x() + rect.get_width()/2.0, height, height, ha='center', va='bottom', size='x-large')\n",
    "plt.title(\"3 Year Forecasted Growth of Housing Prices:  Our Recommendations vs. the Average Performing Zipcode\", \n",
    "          size='xx-large')\n",
    "plt.ylabel('% Growth', color='g', weight='bold')\n",
    "plt.yticks(color='orange', weight='bold')\n",
    "plt.xticks(color='orange', weight='bold')\n",
    "plt.ylim(0,30)\n",
    "plt.show()"
   ]
  },
  {
   "cell_type": "markdown",
   "metadata": {},
   "source": [
    "# Wrap-Up"
   ]
  },
  {
   "cell_type": "markdown",
   "metadata": {},
   "source": [
    "- The most important thing to me for being able to identify what I thought were the zip codes with the absolute best investment potential was finding those zip codes fit ALL 3 of these criteria:\n",
    "  - Extraordinary Proven Long Term Growth\n",
    "  - Extraordinary Proven Short Term Growth\n",
    "  - No negative growth, even during a major recession\n",
    "  \n",
    "- Thankfully there were 10 zip codes that were in the top 5% of performers for all those categories\n",
    "- So at that point I knew I would be choosing my 5 recommendations from that pool of 10\n",
    "- But now I wanted to make sure that there was diversification between the zipcodes I would choose to be the best\n",
    "- Thankfully there was a great mix of zipcode among the top 10.  Here are my final 5 recommendations again with a little notation next to each as to how they bring variety to investment:\n",
    "  - 11211 (expensive homes, east coast, big city)\n",
    "  - 94303 (very expensive homes, west coast)\n",
    "  - 15201 (inexpensive homes, big city, midwest)\n",
    "  - 78721 (mid-level homes, southwest)\n",
    "  - 95389 (mid-level homes, west coast, small city)\n",
    "  \n",
    "- If there was not any variety in the 10 zipcodes I was choosing from for my top 5, I would have expanded my pool of 'best' candidates.  Because even though that would have brought in zip codes with slightly less impressive scores on the 3 criteria, diversity of investments is important enough to take that on (to a degree of course)"
   ]
  }
 ],
 "metadata": {
  "kernelspec": {
   "display_name": "learn-env",
   "language": "python",
   "name": "learn-env"
  },
  "language_info": {
   "codemirror_mode": {
    "name": "ipython",
    "version": 3
   },
   "file_extension": ".py",
   "mimetype": "text/x-python",
   "name": "python",
   "nbconvert_exporter": "python",
   "pygments_lexer": "ipython3",
   "version": "3.6.10"
  }
 },
 "nbformat": 4,
 "nbformat_minor": 2
}
